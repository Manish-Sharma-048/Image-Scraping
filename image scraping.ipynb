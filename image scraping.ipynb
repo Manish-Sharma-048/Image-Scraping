{
 "cells": [
  {
   "cell_type": "code",
   "execution_count": 1,
   "metadata": {},
   "outputs": [],
   "source": [
    "import requests\n",
    "from bs4 import BeautifulSoup"
   ]
  },
  {
   "cell_type": "code",
   "execution_count": 2,
   "metadata": {},
   "outputs": [],
   "source": [
    "http = \"https://www.mohfw.gov.in/\"\n",
    "http_con = requests.get(http)\n",
    "web_data = http_con.text\n",
    "soup = BeautifulSoup(web_data,\"html5lib\")"
   ]
  },
  {
   "cell_type": "code",
   "execution_count": 3,
   "metadata": {},
   "outputs": [],
   "source": [
    "tag_img_add = [] # This will store the path\n",
    "tag_img_name = [] # This will store the name\n",
    "\n",
    "tag_img_list = soup.find_all(\"img\")\n",
    "\n",
    "for img in tag_img_list:\n",
    "    img_title = img.attrs.get(\"src\")\n",
    "    \n",
    "    img_name = img_title.split('/')[-1]\n",
    "    \n",
    "    tag_img_add.append(img_title)\n",
    "    tag_img_name.append(img_name)"
   ]
  },
  {
   "cell_type": "code",
   "execution_count": 4,
   "metadata": {},
   "outputs": [
    {
     "name": "stdout",
     "output_type": "stream",
     "text": [
      "Complete\n"
     ]
    }
   ],
   "source": [
    "for index in range(len(tag_img_list)):\n",
    "    \n",
    "    if http in tag_img_add[index]:\n",
    "        http_con_img = requests.get(tag_img_add[index])\n",
    "        \n",
    "        file = open(tag_img_name[index],\"wb\")\n",
    "        file.write(http_con_img.content)\n",
    "        \n",
    "    else:\n",
    "        http_add = http+tag_img_add[index]\n",
    "        http_con_img = requests.get(http_add)\n",
    "        \n",
    "        file = open(tag_img_name[index],\"wb\")\n",
    "        file.write(http_con_img.content)\n",
    "        \n",
    "file.close()\n",
    "print(\"Complete\")"
   ]
  }
 ],
 "metadata": {
  "kernelspec": {
   "display_name": "Python 3",
   "language": "python",
   "name": "python3"
  },
  "language_info": {
   "codemirror_mode": {
    "name": "ipython",
    "version": 3
   },
   "file_extension": ".py",
   "mimetype": "text/x-python",
   "name": "python",
   "nbconvert_exporter": "python",
   "pygments_lexer": "ipython3",
   "version": "3.8.5"
  }
 },
 "nbformat": 4,
 "nbformat_minor": 4
}
